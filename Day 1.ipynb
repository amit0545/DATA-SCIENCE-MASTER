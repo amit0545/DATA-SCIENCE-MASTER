{
 "cells": [
  {
   "cell_type": "code",
   "execution_count": 9,
   "id": "ea840036-1a00-4a3b-ae25-171edf971444",
   "metadata": {},
   "outputs": [],
   "source": [
    "a = 10"
   ]
  },
  {
   "cell_type": "code",
   "execution_count": 11,
   "id": "27934ac0-d5a3-4679-83eb-955bec0eb854",
   "metadata": {},
   "outputs": [
    {
     "data": {
      "text/plain": [
       "10"
      ]
     },
     "execution_count": 11,
     "metadata": {},
     "output_type": "execute_result"
    }
   ],
   "source": [
    "a"
   ]
  },
  {
   "cell_type": "code",
   "execution_count": 13,
   "id": "7b3325e1-48e9-4dbc-940b-ccf307e87b80",
   "metadata": {},
   "outputs": [],
   "source": [
    "# single line comment use '#'."
   ]
  },
  {
   "cell_type": "markdown",
   "id": "6c679701-f432-49bf-8858-b19fac2a012f",
   "metadata": {},
   "source": [
    "# These is Code of Python\n",
    "## Hello World\n",
    "### Hello World\n",
    "\n",
    "1. We can set title using Markdown\n",
    "2. Size of title increasing or decresing using no. of \"#\".\n",
    "3. minimum '#' Size more\n",
    "4. maximum '#' Size small"
   ]
  },
  {
   "cell_type": "code",
   "execution_count": 20,
   "id": "967b3261-51be-4334-9f32-8fb5f27dd436",
   "metadata": {},
   "outputs": [
    {
     "data": {
      "text/plain": [
       "'\\nHi \\nI am amit DOke\\nThese is Example of Mutiline Comment\\n'"
      ]
     },
     "execution_count": 20,
     "metadata": {},
     "output_type": "execute_result"
    }
   ],
   "source": [
    "\"\"\"\n",
    "Hi \n",
    "I am amit DOke\n",
    "These is Example of Mutiline Comment\n",
    "\"\"\""
   ]
  },
  {
   "cell_type": "markdown",
   "id": "c5e1510d-c831-4fd8-ba60-cb15abc4ae9e",
   "metadata": {},
   "source": [
    "## Numbers :\n"
   ]
  },
  {
   "cell_type": "code",
   "execution_count": 23,
   "id": "fcde64cc-170f-454f-ae60-99ef0da4b958",
   "metadata": {},
   "outputs": [
    {
     "data": {
      "text/plain": [
       "7"
      ]
     },
     "execution_count": 23,
     "metadata": {},
     "output_type": "execute_result"
    }
   ],
   "source": [
    "2 + 5"
   ]
  },
  {
   "cell_type": "code",
   "execution_count": 25,
   "id": "4def47c4-20ce-44d9-99cd-54f2638fa217",
   "metadata": {},
   "outputs": [
    {
     "name": "stdout",
     "output_type": "stream",
     "text": [
      "7\n"
     ]
    }
   ],
   "source": [
    "print(2 + 5)"
   ]
  },
  {
   "cell_type": "code",
   "execution_count": null,
   "id": "03d3e4b1-c099-4e43-a169-880b11e42362",
   "metadata": {},
   "outputs": [],
   "source": [
    "# \\n Is use for new line in output\n",
    "print(\"Hi \\n I am Amit Doke \\n and I Studied in JSPM\")"
   ]
  },
  {
   "cell_type": "markdown",
   "id": "19a3f591-04cf-4768-99e1-9086c34cc344",
   "metadata": {},
   "source": [
    "### Variable Assignment :\n"
   ]
  },
  {
   "cell_type": "code",
   "execution_count": 43,
   "id": "b9d400be-45fe-4d19-8883-53b263ab736f",
   "metadata": {},
   "outputs": [],
   "source": [
    "name = \"Amit\"\n",
    "clg = \"JSPM\"\n",
    "\n",
    "# above example variable is name and value is Amit"
   ]
  },
  {
   "cell_type": "code",
   "execution_count": 69,
   "id": "c5af702c-b0eb-4932-adc2-43643ac7efbf",
   "metadata": {},
   "outputs": [
    {
     "data": {
      "text/plain": [
       "str"
      ]
     },
     "execution_count": 69,
     "metadata": {},
     "output_type": "execute_result"
    }
   ],
   "source": [
    "# type is used for find the type of class inside in ()\n",
    "type(name)\n"
   ]
  },
  {
   "cell_type": "code",
   "execution_count": 47,
   "id": "5f15a221-e300-485a-bb1e-faf9319eb101",
   "metadata": {},
   "outputs": [
    {
     "name": "stdout",
     "output_type": "stream",
     "text": [
      "Amit\n",
      "JSPM\n"
     ]
    }
   ],
   "source": [
    "print(name)\n",
    "print(clg)"
   ]
  },
  {
   "cell_type": "code",
   "execution_count": 53,
   "id": "64f801a6-c336-4c46-b78b-02e4abe48fd2",
   "metadata": {},
   "outputs": [],
   "source": [
    "a = 10\n",
    "a = 100\n",
    "\n",
    "# above example variable is a and value is 10"
   ]
  },
  {
   "cell_type": "code",
   "execution_count": 63,
   "id": "d8e87074-bca8-4263-8e49-6fafb446fcb7",
   "metadata": {},
   "outputs": [
    {
     "data": {
      "text/plain": [
       "int"
      ]
     },
     "execution_count": 63,
     "metadata": {},
     "output_type": "execute_result"
    }
   ],
   "source": [
    "type(a)"
   ]
  },
  {
   "cell_type": "code",
   "execution_count": 57,
   "id": "54f6937a-2fb8-4cf3-90b9-ce75aa00886f",
   "metadata": {},
   "outputs": [
    {
     "name": "stdout",
     "output_type": "stream",
     "text": [
      "50\n"
     ]
    }
   ],
   "source": [
    "a = 50\n",
    "print(a)"
   ]
  },
  {
   "cell_type": "code",
   "execution_count": 59,
   "id": "188bdcd3-f972-4e3d-9fa6-5a634d6d13ca",
   "metadata": {},
   "outputs": [
    {
     "data": {
      "text/plain": [
       "str"
      ]
     },
     "execution_count": 59,
     "metadata": {},
     "output_type": "execute_result"
    }
   ],
   "source": [
    "type(\"\")"
   ]
  },
  {
   "cell_type": "code",
   "execution_count": 61,
   "id": "c3c91243-db69-411c-a0e2-8c1a386ca299",
   "metadata": {},
   "outputs": [
    {
     "data": {
      "text/plain": [
       "str"
      ]
     },
     "execution_count": 61,
     "metadata": {},
     "output_type": "execute_result"
    }
   ],
   "source": [
    "type('')"
   ]
  },
  {
   "cell_type": "code",
   "execution_count": 89,
   "id": "c7c9b715-d216-45db-b9ad-f69bb64790ee",
   "metadata": {},
   "outputs": [],
   "source": [
    "decimal_num = 10.5"
   ]
  },
  {
   "cell_type": "code",
   "execution_count": 91,
   "id": "7765b168-fb8e-4ec2-b46b-dd778a83dd63",
   "metadata": {},
   "outputs": [
    {
     "data": {
      "text/plain": [
       "float"
      ]
     },
     "execution_count": 91,
     "metadata": {},
     "output_type": "execute_result"
    }
   ],
   "source": [
    "type(decimal_num)"
   ]
  },
  {
   "cell_type": "code",
   "execution_count": 93,
   "id": "12c3e9d5-a4a3-42ee-bd6a-784f612cc9c1",
   "metadata": {},
   "outputs": [],
   "source": [
    "a = 'hi'"
   ]
  },
  {
   "cell_type": "code",
   "execution_count": 95,
   "id": "853c7d5f-fabb-4271-845e-d142b1583ca0",
   "metadata": {},
   "outputs": [
    {
     "data": {
      "text/plain": [
       "str"
      ]
     },
     "execution_count": 95,
     "metadata": {},
     "output_type": "execute_result"
    }
   ],
   "source": [
    "type(a)"
   ]
  },
  {
   "cell_type": "code",
   "execution_count": 102,
   "id": "11504530-22d7-4ec2-b87b-0d1289e01407",
   "metadata": {},
   "outputs": [],
   "source": [
    "a = 1+2j"
   ]
  },
  {
   "cell_type": "code",
   "execution_count": 104,
   "id": "ef594100-b629-4d12-a80e-6bd7d3f84a38",
   "metadata": {},
   "outputs": [
    {
     "data": {
      "text/plain": [
       "complex"
      ]
     },
     "execution_count": 104,
     "metadata": {},
     "output_type": "execute_result"
    }
   ],
   "source": [
    "type(a)"
   ]
  },
  {
   "cell_type": "code",
   "execution_count": 106,
   "id": "7eaf05d9-3c38-48a0-ab77-253af99e6120",
   "metadata": {},
   "outputs": [
    {
     "name": "stdout",
     "output_type": "stream",
     "text": [
      "Amit\n",
      "Sarthak\n"
     ]
    }
   ],
   "source": [
    "print(\"Amit\")\n",
    "print('Sarthak')\n",
    "# Both are same"
   ]
  },
  {
   "cell_type": "code",
   "execution_count": null,
   "id": "8dfb377a-291e-453d-adb0-4038e931d6a6",
   "metadata": {},
   "outputs": [],
   "source": [
    "# Variable Don't Start with Numbers\n",
    "1a\n",
    "3num "
   ]
  },
  {
   "cell_type": "code",
   "execution_count": 112,
   "id": "f781f36f-d083-4771-b481-620f6f5b7912",
   "metadata": {},
   "outputs": [
    {
     "name": "stdout",
     "output_type": "stream",
     "text": [
      "JSPM\n",
      "AISSMS\n"
     ]
    }
   ],
   "source": [
    "# variables are case senstive\n",
    "college = \"JSPM\"\n",
    "College = \"AISSMS\"\n",
    "print(college)\n",
    "print(College)"
   ]
  },
  {
   "cell_type": "markdown",
   "id": "c2d29ec0-0853-4e47-8136-e1b3028842bd",
   "metadata": {},
   "source": [
    "### Dynamic typing :\n",
    "#### Compiler able to understand the type of variable at runtime.\n"
   ]
  },
  {
   "cell_type": "code",
   "execution_count": 12,
   "id": "b7f3a5a9-bc82-4ec0-8f71-bee3ebb30f60",
   "metadata": {},
   "outputs": [],
   "source": [
    "a = 10\n",
    "b = \"Amit\""
   ]
  },
  {
   "cell_type": "code",
   "execution_count": 16,
   "id": "4255e14e-1009-40f6-be47-e56028a95a74",
   "metadata": {},
   "outputs": [
    {
     "data": {
      "text/plain": [
       "int"
      ]
     },
     "execution_count": 16,
     "metadata": {},
     "output_type": "execute_result"
    }
   ],
   "source": [
    "type(a)"
   ]
  },
  {
   "cell_type": "code",
   "execution_count": 20,
   "id": "cd8d69f6-380c-4712-8a1e-1de97b111d51",
   "metadata": {},
   "outputs": [
    {
     "data": {
      "text/plain": [
       "\"<class 'str'>\""
      ]
     },
     "execution_count": 20,
     "metadata": {},
     "output_type": "execute_result"
    }
   ],
   "source": [
    "str(type(b))"
   ]
  },
  {
   "cell_type": "code",
   "execution_count": 22,
   "id": "65a1a331-e2b4-4eff-8bcb-d975a26dc876",
   "metadata": {},
   "outputs": [
    {
     "data": {
      "text/plain": [
       "2"
      ]
     },
     "execution_count": 22,
     "metadata": {},
     "output_type": "execute_result"
    }
   ],
   "source": [
    "int(2.66)"
   ]
  },
  {
   "cell_type": "code",
   "execution_count": null,
   "id": "b5968746-205a-4cb2-84da-e830675855aa",
   "metadata": {},
   "outputs": [],
   "source": [
    "# Concantination of Different Types : Same datatypes concantination are possible."
   ]
  },
  {
   "cell_type": "code",
   "execution_count": 24,
   "id": "b871d115-858f-4ec8-8c07-fd3110f150fc",
   "metadata": {},
   "outputs": [
    {
     "data": {
      "text/plain": [
       "'11'"
      ]
     },
     "execution_count": 24,
     "metadata": {},
     "output_type": "execute_result"
    }
   ],
   "source": [
    "\"1\" + \"1\""
   ]
  },
  {
   "cell_type": "code",
   "execution_count": 26,
   "id": "c806652a-ea43-4776-a120-144cb9c03e6b",
   "metadata": {},
   "outputs": [
    {
     "data": {
      "text/plain": [
       "2"
      ]
     },
     "execution_count": 26,
     "metadata": {},
     "output_type": "execute_result"
    }
   ],
   "source": [
    "int('1') + int('1')"
   ]
  },
  {
   "cell_type": "code",
   "execution_count": 30,
   "id": "85e8489a-497e-465a-97ae-d876055b044d",
   "metadata": {},
   "outputs": [
    {
     "data": {
      "text/plain": [
       "'1111111111111111111111111111111111111111111111111111111111111111111111111111111111111111111111111111'"
      ]
     },
     "execution_count": 30,
     "metadata": {},
     "output_type": "execute_result"
    }
   ],
   "source": [
    "\"1\" * 100"
   ]
  },
  {
   "cell_type": "code",
   "execution_count": null,
   "id": "661cc469-e7a1-4779-829d-6b172cee99dd",
   "metadata": {},
   "outputs": [],
   "source": []
  }
 ],
 "metadata": {
  "kernelspec": {
   "display_name": "Python 3 (ipykernel)",
   "language": "python",
   "name": "python3"
  },
  "language_info": {
   "codemirror_mode": {
    "name": "ipython",
    "version": 3
   },
   "file_extension": ".py",
   "mimetype": "text/x-python",
   "name": "python",
   "nbconvert_exporter": "python",
   "pygments_lexer": "ipython3",
   "version": "3.12.4"
  }
 },
 "nbformat": 4,
 "nbformat_minor": 5
}
